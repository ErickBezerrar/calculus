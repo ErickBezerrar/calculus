{
 "cells": [
  {
   "cell_type": "code",
   "execution_count": 1,
   "id": "137123b7",
   "metadata": {},
   "outputs": [],
   "source": [
    "from sympy import*\n",
    "import math"
   ]
  },
  {
   "cell_type": "code",
   "execution_count": 2,
   "id": "79ce4ed0",
   "metadata": {},
   "outputs": [],
   "source": [
    "init_printing(pretty_print=true)"
   ]
  },
  {
   "cell_type": "code",
   "execution_count": 3,
   "id": "38e0a723",
   "metadata": {},
   "outputs": [],
   "source": [
    "x = Symbol('x')"
   ]
  },
  {
   "cell_type": "code",
   "execution_count": 10,
   "id": "f55c9c40",
   "metadata": {},
   "outputs": [
    {
     "data": {
      "image/png": "[encoded data removed]",
      "text/latex": [
       "$\\displaystyle \\left( \\int \\sin^{2}{\\left(x \\right)}\\, dx, \\  \\left( x, \\  0, \\  \\frac{\\pi}{2}\\right)\\right)$"
      ],
      "text/plain": [
       "⎛⌠                      ⎞\n",
       "⎜⎮    2        ⎛      π⎞⎟\n",
       "⎜⎮ sin (x) dx, ⎜x, 0, ─⎟⎟\n",
       "⎝⌡             ⎝      2⎠⎠"
      ]
     },
     "execution_count": 10,
     "metadata": {},
     "output_type": "execute_result"
    }
   ],
   "source": [
    "Integral(sin(x)**2),(x,0,pi/2)"
   ]
  },
  {
   "cell_type": "code",
   "execution_count": 12,
   "id": "1334d102",
   "metadata": {},
   "outputs": [
    {
     "data": {
      "image/png": "[encoded data removed]",
      "text/latex": [
       "$\\displaystyle 0.785398163397448$"
      ],
      "text/plain": [
       "0.785398163397448"
      ]
     },
     "execution_count": 12,
     "metadata": {},
     "output_type": "execute_result"
    }
   ],
   "source": [
    "Integral((sin(x)**2),(x,0,pi/2)).doit().evalf()"
   ]
  },
  {
   "cell_type": "code",
   "execution_count": null,
   "id": "7775286d",
   "metadata": {},
   "outputs": [],
   "source": []
  }
 ],
 "metadata": {
  "kernelspec": {
   "display_name": "Python 3 (ipykernel)",
   "language": "python",
   "name": "python3"
  },
  "language_info": {
   "codemirror_mode": {
    "name": "ipython",
    "version": 3
   },
   "file_extension": ".py",
   "mimetype": "text/x-python",
   "name": "python",
   "nbconvert_exporter": "python",
   "pygments_lexer": "ipython3",
   "version": "3.9.13"
  }
 },
 "nbformat": 4,
 "nbformat_minor": 5
}
