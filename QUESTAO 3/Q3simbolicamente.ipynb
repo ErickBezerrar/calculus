{
 "cells": [
  {
   "cell_type": "code",
   "execution_count": 1,
   "id": "72a03421",
   "metadata": {},
   "outputs": [],
   "source": [
    "from sympy import*\n",
    "import math"
   ]
  },
  {
   "cell_type": "code",
   "execution_count": 2,
   "id": "f2f20d4b",
   "metadata": {},
   "outputs": [],
   "source": [
    "init_printing(pretty_print=true)"
   ]
  },
  {
   "cell_type": "code",
   "execution_count": 3,
   "id": "877b04c7",
   "metadata": {},
   "outputs": [],
   "source": [
    "x = Symbol('x')"
   ]
  },
  {
   "cell_type": "code",
   "execution_count": 4,
   "id": "d883888a",
   "metadata": {},
   "outputs": [
    {
     "data": {
      "text/latex": [
       "$\\displaystyle 16.0 {{}_{2}F_{1}\\left(\\begin{matrix} -0.5, \\frac{1}{2} \\\\ \\frac{3}{2} \\end{matrix}\\middle| {1} \\right)}$"
      ],
      "text/plain": [
       "      ┌─  ⎛-0.5, 1/2 │  ⎞\n",
       "16.0⋅ ├─  ⎜          │ 1⎟\n",
       "     2╵ 1 ⎝   3/2    │  ⎠"
      ]
     },
     "execution_count": 4,
     "metadata": {},
     "output_type": "execute_result"
    }
   ],
   "source": [
    "Integral(((16-x**2)**(1/2)),(x,0,4)).doit()"
   ]
  },
  {
   "cell_type": "code",
   "execution_count": 5,
   "id": "043ce52a",
   "metadata": {},
   "outputs": [
    {
     "data": {
      "image/png": "[encoded data removed]",
      "text/latex": [
       "$\\displaystyle 12.5663706143592$"
      ],
      "text/plain": [
       "12.5663706143592"
      ]
     },
     "execution_count": 5,
     "metadata": {},
     "output_type": "execute_result"
    }
   ],
   "source": [
    "Integral(((16-x**2)**(1/2)),(x,0,4)).doit().evalf()"
   ]
  }
 ],
 "metadata": {
  "kernelspec": {
   "display_name": "Python 3",
   "language": "python",
   "name": "python3"
  },
  "language_info": {
   "codemirror_mode": {
    "name": "ipython",
    "version": 3
   },
   "file_extension": ".py",
   "mimetype": "text/x-python",
   "name": "python",
   "nbconvert_exporter": "python",
   "pygments_lexer": "ipython3",
   "version": "3.9.13 (tags/v3.9.13:6de2ca5, May 17 2022, 16:36:42) [MSC v.1929 64 bit (AMD64)]"
  },
  "vscode": {
   "interpreter": {
    "hash": "7c874f6865d4b8c1036e012661dd7cc436876ff5513278501d79694d6dac2a1e"
   }
  }
 },
 "nbformat": 4,
 "nbformat_minor": 5
}
