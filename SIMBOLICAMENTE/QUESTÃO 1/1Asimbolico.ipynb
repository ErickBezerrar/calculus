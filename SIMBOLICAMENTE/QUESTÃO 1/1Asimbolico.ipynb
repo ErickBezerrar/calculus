{
 "cells": [
  {
   "cell_type": "code",
   "execution_count": 1,
   "id": "d6090ced",
   "metadata": {},
   "outputs": [],
   "source": [
    "from sympy import*\n",
    "import math"
   ]
  },
  {
   "cell_type": "code",
   "execution_count": 2,
   "id": "75b4729a",
   "metadata": {},
   "outputs": [],
   "source": [
    "init_printing(pretty_print=true)"
   ]
  },
  {
   "cell_type": "code",
   "execution_count": 3,
   "id": "d74ec459",
   "metadata": {},
   "outputs": [],
   "source": [
    "x = Symbol('x')"
   ]
  },
  {
   "cell_type": "code",
   "execution_count": 5,
   "id": "c3d07f49",
   "metadata": {},
   "outputs": [
    {
     "data": {
      "image/png": "[encoded data removed]",
      "text/latex": [
       "$\\displaystyle \\left( \\int \\frac{2 x + 1}{\\sqrt{5 x - 1}}\\, dx, \\  \\left( x, \\  0, \\  1\\right)\\right)$"
      ],
      "text/plain": [
       "⎛⌠                          ⎞\n",
       "⎜⎮   2⋅x + 1                ⎟\n",
       "⎜⎮ ─────────── dx, (x, 0, 1)⎟\n",
       "⎜⎮   _________              ⎟\n",
       "⎜⎮ ╲╱ 5⋅x - 1               ⎟\n",
       "⎝⌡                          ⎠"
      ]
     },
     "execution_count": 5,
     "metadata": {},
     "output_type": "execute_result"
    }
   ],
   "source": [
    "Integral((2*x+1)/sqrt(5*x-1)),(x,0,1)"
   ]
  },
  {
   "cell_type": "code",
   "execution_count": 6,
   "id": "9f6f54e9",
   "metadata": {},
   "outputs": [
    {
     "data": {
      "image/png": "[encoded data removed]",
      "text/latex": [
       "$\\displaystyle 1.54666666666667 - 0.506666666666667 i$"
      ],
      "text/plain": [
       "1.54666666666667 - 0.506666666666667⋅ⅈ"
      ]
     },
     "execution_count": 6,
     "metadata": {},
     "output_type": "execute_result"
    }
   ],
   "source": [
    "Integral(((2*x+1)/sqrt(5*x-1)),(x,0,1)).doit().evalf()"
   ]
  },
  {
   "cell_type": "code",
   "execution_count": null,
   "id": "8343f3d0",
   "metadata": {},
   "outputs": [],
   "source": []
  }
 ],
 "metadata": {
  "kernelspec": {
   "display_name": "Python 3",
   "language": "python",
   "name": "python3"
  },
  "language_info": {
   "codemirror_mode": {
    "name": "ipython",
    "version": 3
   },
   "file_extension": ".py",
   "mimetype": "text/x-python",
   "name": "python",
   "nbconvert_exporter": "python",
   "pygments_lexer": "ipython3",
   "version": "3.9.13 (tags/v3.9.13:6de2ca5, May 17 2022, 16:36:42) [MSC v.1929 64 bit (AMD64)]"
  },
  "vscode": {
   "interpreter": {
    "hash": "7c874f6865d4b8c1036e012661dd7cc436876ff5513278501d79694d6dac2a1e"
   }
  }
 },
 "nbformat": 4,
 "nbformat_minor": 5
}
