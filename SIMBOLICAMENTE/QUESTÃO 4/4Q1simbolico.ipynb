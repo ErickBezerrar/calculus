{
 "cells": [
  {
   "cell_type": "code",
   "execution_count": 1,
   "id": "aa58aca4",
   "metadata": {},
   "outputs": [],
   "source": [
    "from sympy import*\n",
    "import math"
   ]
  },
  {
   "cell_type": "code",
   "execution_count": 2,
   "id": "91e47a01",
   "metadata": {},
   "outputs": [],
   "source": [
    "init_printing(pretty_print=true)"
   ]
  },
  {
   "cell_type": "code",
   "execution_count": 3,
   "id": "0752c49f",
   "metadata": {},
   "outputs": [],
   "source": [
    "x = Symbol('x')"
   ]
  },
  {
   "cell_type": "code",
   "execution_count": 20,
   "id": "b88f549f",
   "metadata": {},
   "outputs": [
    {
     "data": {
      "image/png": "[encoded data removed]",
      "text/latex": [
       "$\\displaystyle \\left( \\int \\frac{1}{\\left(x + 1\\right) \\sqrt{x^{2} + 1}}\\, dx, \\  \\left( x, \\  0, \\  0.75\\right)\\right)$"
      ],
      "text/plain": [
       "⎛⌠                                     ⎞\n",
       "⎜⎮          1                          ⎟\n",
       "⎜⎮ ─────────────────── dx, (x, 0, 0.75)⎟\n",
       "⎜⎮            ________                 ⎟\n",
       "⎜⎮           ╱  2                      ⎟\n",
       "⎜⎮ (x + 1)⋅╲╱  x  + 1                  ⎟\n",
       "⎝⌡                                     ⎠"
      ]
     },
     "execution_count": 20,
     "metadata": {},
     "output_type": "execute_result"
    }
   ],
   "source": [
    "Integral(1/((x+1)*(sqrt(x**2+1)))),(x,0,0.75)"
   ]
  },
  {
   "cell_type": "code",
   "execution_count": 25,
   "id": "32678448",
   "metadata": {},
   "outputs": [
    {
     "data": {
      "image/png": "[encoded data removed]",
      "text/latex": [
       "$\\displaystyle 0.52255045738048$"
      ],
      "text/plain": [
       "0.522550457380480"
      ]
     },
     "execution_count": 25,
     "metadata": {},
     "output_type": "execute_result"
    }
   ],
   "source": [
    "Integral((1/((x+1)*(sqrt(x**2+1)))),(x,0,0.75)).doit().evalf()"
   ]
  }
 ],
 "metadata": {
  "kernelspec": {
   "display_name": "Python 3",
   "language": "python",
   "name": "python3"
  },
  "language_info": {
   "codemirror_mode": {
    "name": "ipython",
    "version": 3
   },
   "file_extension": ".py",
   "mimetype": "text/x-python",
   "name": "python",
   "nbconvert_exporter": "python",
   "pygments_lexer": "ipython3",
   "version": "3.9.13 (tags/v3.9.13:6de2ca5, May 17 2022, 16:36:42) [MSC v.1929 64 bit (AMD64)]"
  },
  "vscode": {
   "interpreter": {
    "hash": "7c874f6865d4b8c1036e012661dd7cc436876ff5513278501d79694d6dac2a1e"
   }
  }
 },
 "nbformat": 4,
 "nbformat_minor": 5
}
