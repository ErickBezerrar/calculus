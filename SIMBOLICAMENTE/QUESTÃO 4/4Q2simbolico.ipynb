{
 "cells": [
  {
   "cell_type": "code",
   "execution_count": 77,
   "id": "a134afe8",
   "metadata": {},
   "outputs": [],
   "source": [
    "from sympy import*\n",
    "import math"
   ]
  },
  {
   "cell_type": "code",
   "execution_count": 78,
   "id": "453c7be8",
   "metadata": {},
   "outputs": [],
   "source": [
    "init_printing(use_unicode=True)"
   ]
  },
  {
   "cell_type": "code",
   "execution_count": 79,
   "id": "cc3123cc",
   "metadata": {},
   "outputs": [],
   "source": [
    "x = Symbol('x')"
   ]
  },
  {
   "cell_type": "code",
   "execution_count": 80,
   "id": "0147da3b",
   "metadata": {},
   "outputs": [
    {
     "name": "stdout",
     "output_type": "stream",
     "text": [
      "2.4674011002723395\n"
     ]
    }
   ],
   "source": [
    "print(float(integrate(asin(sqrt(x))/(sqrt(x*(1 - x))),(x,0,1))))"
   ]
  }
 ],
 "metadata": {
  "kernelspec": {
   "display_name": "Python 3",
   "language": "python",
   "name": "python3"
  },
  "language_info": {
   "codemirror_mode": {
    "name": "ipython",
    "version": 3
   },
   "file_extension": ".py",
   "mimetype": "text/x-python",
   "name": "python",
   "nbconvert_exporter": "python",
   "pygments_lexer": "ipython3",
   "version": "3.9.13 (tags/v3.9.13:6de2ca5, May 17 2022, 16:36:42) [MSC v.1929 64 bit (AMD64)]"
  },
  "vscode": {
   "interpreter": {
    "hash": "7c874f6865d4b8c1036e012661dd7cc436876ff5513278501d79694d6dac2a1e"
   }
  }
 },
 "nbformat": 4,
 "nbformat_minor": 5
}
