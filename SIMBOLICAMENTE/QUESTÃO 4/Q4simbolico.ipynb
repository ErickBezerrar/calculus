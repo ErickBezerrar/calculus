{
 "cells": [
  {
   "cell_type": "code",
   "execution_count": 1,
   "id": "8c5ee97c",
   "metadata": {},
   "outputs": [],
   "source": [
    "from sympy import*\n",
    "import math"
   ]
  },
  {
   "cell_type": "code",
   "execution_count": 2,
   "id": "33221bb6",
   "metadata": {},
   "outputs": [],
   "source": [
    "init_printing(pretty_print=true)"
   ]
  },
  {
   "cell_type": "code",
   "execution_count": 3,
   "id": "b430e58b",
   "metadata": {},
   "outputs": [],
   "source": [
    "x = Symbol('x')"
   ]
  },
  {
   "cell_type": "code",
   "execution_count": 14,
   "id": "91a8dad6",
   "metadata": {},
   "outputs": [
    {
     "data": {
      "image/png": "[encoded data removed]",
      "text/latex": [
       "$\\displaystyle \\left( \\int \\frac{\\sin^{2}{\\left(x \\right)} - 4 \\sin{\\left(x \\right)} \\cos{\\left(x \\right)} + 3 \\cos^{2}{\\left(x \\right)}}{\\sin{\\left(x \\right)} + \\cos{\\left(x \\right)}}\\, dx, \\  x\\right)$"
      ],
      "text/plain": [
       "⎛⌠                                            ⎞\n",
       "⎜⎮    2                             2         ⎟\n",
       "⎜⎮ sin (x) - 4⋅sin(x)⋅cos(x) + 3⋅cos (x)      ⎟\n",
       "⎜⎮ ───────────────────────────────────── dx, x⎟\n",
       "⎜⎮            sin(x) + cos(x)                 ⎟\n",
       "⎝⌡                                            ⎠"
      ]
     },
     "execution_count": 14,
     "metadata": {},
     "output_type": "execute_result"
    }
   ],
   "source": [
    "Integral((sin(x)**2 - 4*sin(x)*cos(x)+3*cos(x)**2)/(sin(x)+cos(x))),(x)"
   ]
  },
  {
   "cell_type": "code",
   "execution_count": 16,
   "id": "4f6f17f6",
   "metadata": {},
   "outputs": [
    {
     "data": {
      "image/png": "[encoded data removed]",
      "text/latex": [
       "$\\displaystyle \\frac{2.82842712474619 \\log{\\left(\\tan{\\left(\\frac{x}{2} \\right)} - 1 + \\sqrt{2} \\right)} \\tan^{2}{\\left(\\frac{x}{2} \\right)}}{\\tan^{2}{\\left(\\frac{x}{2} \\right)} + 1.0} + \\frac{2.82842712474619 \\log{\\left(\\tan{\\left(\\frac{x}{2} \\right)} - 1 + \\sqrt{2} \\right)}}{\\tan^{2}{\\left(\\frac{x}{2} \\right)} + 1.0} - \\frac{2.82842712474619 \\log{\\left(\\tan{\\left(\\frac{x}{2} \\right)} - \\sqrt{2} - 1 \\right)} \\tan^{2}{\\left(\\frac{x}{2} \\right)}}{\\tan^{2}{\\left(\\frac{x}{2} \\right)} + 1.0} - \\frac{2.82842712474619 \\log{\\left(\\tan{\\left(\\frac{x}{2} \\right)} - \\sqrt{2} - 1 \\right)}}{\\tan^{2}{\\left(\\frac{x}{2} \\right)} + 1.0} - \\frac{2.0 \\tan{\\left(\\frac{x}{2} \\right)}}{\\tan^{2}{\\left(\\frac{x}{2} \\right)} + 1.0} + \\frac{6.0}{\\tan^{2}{\\left(\\frac{x}{2} \\right)} + 1.0}$"
      ],
      "text/plain": [
       "                    ⎛   ⎛x⎞         ⎞    2⎛x⎞                       ⎛   ⎛x⎞   \n",
       "2.82842712474619⋅log⎜tan⎜─⎟ - 1 + √2⎟⋅tan ⎜─⎟   2.82842712474619⋅log⎜tan⎜─⎟ - \n",
       "                    ⎝   ⎝2⎠         ⎠     ⎝2⎠                       ⎝   ⎝2⎠   \n",
       "───────────────────────────────────────────── + ──────────────────────────────\n",
       "                   2⎛x⎞                                        2⎛x⎞           \n",
       "                tan ⎜─⎟ + 1.0                               tan ⎜─⎟ + 1.0     \n",
       "                    ⎝2⎠                                         ⎝2⎠           \n",
       "\n",
       "      ⎞                       ⎛   ⎛x⎞         ⎞    2⎛x⎞                       \n",
       "1 + √2⎟   2.82842712474619⋅log⎜tan⎜─⎟ - √2 - 1⎟⋅tan ⎜─⎟   2.82842712474619⋅log\n",
       "      ⎠                       ⎝   ⎝2⎠         ⎠     ⎝2⎠                       \n",
       "─────── - ───────────────────────────────────────────── - ────────────────────\n",
       "                             2⎛x⎞                                        2⎛x⎞ \n",
       "                          tan ⎜─⎟ + 1.0                               tan ⎜─⎟ \n",
       "                              ⎝2⎠                                         ⎝2⎠ \n",
       "\n",
       "⎛   ⎛x⎞         ⎞            ⎛x⎞                 \n",
       "⎜tan⎜─⎟ - √2 - 1⎟     2.0⋅tan⎜─⎟                 \n",
       "⎝   ⎝2⎠         ⎠            ⎝2⎠         6.0     \n",
       "───────────────── - ───────────── + ─────────────\n",
       "                       2⎛x⎞            2⎛x⎞      \n",
       "+ 1.0               tan ⎜─⎟ + 1.0   tan ⎜─⎟ + 1.0\n",
       "                        ⎝2⎠             ⎝2⎠      "
      ]
     },
     "execution_count": 16,
     "metadata": {},
     "output_type": "execute_result"
    }
   ],
   "source": [
    "Integral(((sin(x)**2 - 4*sin(x)*cos(x)+3*cos(x)**2)/(sin(x)+cos(x))),(x)).doit().evalf()"
   ]
  },
  {
   "cell_type": "code",
   "execution_count": null,
   "id": "83b68ebe",
   "metadata": {},
   "outputs": [],
   "source": []
  }
 ],
 "metadata": {
  "kernelspec": {
   "display_name": "Python 3 (ipykernel)",
   "language": "python",
   "name": "python3"
  },
  "language_info": {
   "codemirror_mode": {
    "name": "ipython",
    "version": 3
   },
   "file_extension": ".py",
   "mimetype": "text/x-python",
   "name": "python",
   "nbconvert_exporter": "python",
   "pygments_lexer": "ipython3",
   "version": "3.9.13"
  }
 },
 "nbformat": 4,
 "nbformat_minor": 5
}
