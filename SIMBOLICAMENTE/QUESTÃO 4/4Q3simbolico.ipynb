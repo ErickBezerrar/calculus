{
 "cells": [
  {
   "cell_type": "code",
   "execution_count": 21,
   "id": "7b758652",
   "metadata": {},
   "outputs": [],
   "source": [
    "from sympy import*\n",
    "import math"
   ]
  },
  {
   "cell_type": "code",
   "execution_count": 22,
   "id": "ad14c557",
   "metadata": {},
   "outputs": [],
   "source": [
    "init_printing(pretty_print=true)"
   ]
  },
  {
   "cell_type": "code",
   "execution_count": 23,
   "id": "d8e20712",
   "metadata": {},
   "outputs": [],
   "source": [
    "x = Symbol('x')"
   ]
  },
  {
   "cell_type": "code",
   "execution_count": 24,
   "id": "a4e90b17",
   "metadata": {},
   "outputs": [
    {
     "data": {
      "image/png": "[encoded data removed]",
      "text/latex": [
       "$\\displaystyle - \\frac{\\pi^{2}}{32} + \\log{\\left(\\sqrt{2} \\right)} + \\frac{\\pi}{4}$"
      ],
      "text/plain": [
       "   2              \n",
       "  π              π\n",
       "- ── + log(√2) + ─\n",
       "  32             4"
      ]
     },
     "execution_count": 24,
     "metadata": {},
     "output_type": "execute_result"
    }
   ],
   "source": [
    "Integral(((((sin(x)-cos(x))/(sin(x)+cos(x))))**2*x+1),(x,0,pi/4)).doit()"
   ]
  },
  {
   "cell_type": "code",
   "execution_count": 14,
   "id": "926a0413",
   "metadata": {},
   "outputs": [
    {
     "data": {
      "image/png": "[encoded data removed]",
      "text/latex": [
       "$\\displaystyle 0.823546616143379$"
      ],
      "text/plain": [
       "0.823546616143379"
      ]
     },
     "execution_count": 14,
     "metadata": {},
     "output_type": "execute_result"
    }
   ],
   "source": [
    "Integral(((((sin(x)-cos(x))/(sin(x)+cos(x))))**2*x+1),(x,0,pi/4)).doit().evalf()"
   ]
  }
 ],
 "metadata": {
  "kernelspec": {
   "display_name": "Python 3 (ipykernel)",
   "language": "python",
   "name": "python3"
  },
  "language_info": {
   "codemirror_mode": {
    "name": "ipython",
    "version": 3
   },
   "file_extension": ".py",
   "mimetype": "text/x-python",
   "name": "python",
   "nbconvert_exporter": "python",
   "pygments_lexer": "ipython3",
   "version": "3.9.13"
  }
 },
 "nbformat": 4,
 "nbformat_minor": 5
}
