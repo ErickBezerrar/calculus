{
 "cells": [
  {
   "cell_type": "code",
   "execution_count": 1,
   "id": "87693f54",
   "metadata": {},
   "outputs": [],
   "source": [
    "from sympy import*\n",
    "import math"
   ]
  },
  {
   "cell_type": "code",
   "execution_count": 2,
   "id": "967ec4e4",
   "metadata": {},
   "outputs": [],
   "source": [
    "init_printing(pretty_print=true)"
   ]
  },
  {
   "cell_type": "code",
   "execution_count": 3,
   "id": "a906929a",
   "metadata": {},
   "outputs": [],
   "source": [
    "x = Symbol('x')"
   ]
  },
  {
   "cell_type": "code",
   "execution_count": 8,
   "id": "043779d9",
   "metadata": {},
   "outputs": [
    {
     "data": {
      "image/png": "[encoded data removed]",
      "text/latex": [
       "$\\displaystyle \\left( \\int \\frac{\\sin^{2}{\\left(x \\right)} - \\sin{\\left(x \\right)} \\cos{\\left(x \\right)} + 2 \\cos^{2}{\\left(x \\right)}}{\\sin{\\left(x \\right)} + 2 \\cos{\\left(x \\right)}}\\, dx, \\  x\\right)$"
      ],
      "text/plain": [
       "⎛⌠                                          ⎞\n",
       "⎜⎮    2                           2         ⎟\n",
       "⎜⎮ sin (x) - sin(x)⋅cos(x) + 2⋅cos (x)      ⎟\n",
       "⎜⎮ ─────────────────────────────────── dx, x⎟\n",
       "⎜⎮          sin(x) + 2⋅cos(x)               ⎟\n",
       "⎝⌡                                          ⎠"
      ]
     },
     "execution_count": 8,
     "metadata": {},
     "output_type": "execute_result"
    }
   ],
   "source": [
    "Integral((sin(x)**2 - sin(x)*cos(x)+2*cos(x)**2)/(sin(x)+2*cos(x))),(x)"
   ]
  },
  {
   "cell_type": "code",
   "execution_count": 10,
   "id": "afde96ba",
   "metadata": {},
   "outputs": [
    {
     "data": {
      "image/png": "[encoded data removed]",
      "text/latex": [
       "$\\displaystyle \\frac{17.8885438199983 \\log{\\left(\\tan{\\left(\\frac{x}{2} \\right)} - \\frac{1}{2} + \\frac{\\sqrt{5}}{2} \\right)} \\tan^{2}{\\left(\\frac{x}{2} \\right)}}{25.0 \\tan^{2}{\\left(\\frac{x}{2} \\right)} + 25.0} + \\frac{17.8885438199983 \\log{\\left(\\tan{\\left(\\frac{x}{2} \\right)} - \\frac{1}{2} + \\frac{\\sqrt{5}}{2} \\right)}}{25.0 \\tan^{2}{\\left(\\frac{x}{2} \\right)} + 25.0} - \\frac{17.8885438199983 \\log{\\left(\\tan{\\left(\\frac{x}{2} \\right)} - \\frac{\\sqrt{5}}{2} - \\frac{1}{2} \\right)} \\tan^{2}{\\left(\\frac{x}{2} \\right)}}{25.0 \\tan^{2}{\\left(\\frac{x}{2} \\right)} + 25.0} - \\frac{17.8885438199983 \\log{\\left(\\tan{\\left(\\frac{x}{2} \\right)} - \\frac{\\sqrt{5}}{2} - \\frac{1}{2} \\right)}}{25.0 \\tan^{2}{\\left(\\frac{x}{2} \\right)} + 25.0} + \\frac{10.0 \\tan{\\left(\\frac{x}{2} \\right)}}{25.0 \\tan^{2}{\\left(\\frac{x}{2} \\right)} + 25.0} + \\frac{30.0}{25.0 \\tan^{2}{\\left(\\frac{x}{2} \\right)} + 25.0}$"
      ],
      "text/plain": [
       "                    ⎛   ⎛x⎞   1   √5⎞    2⎛x⎞                       ⎛   ⎛x⎞   \n",
       "17.8885438199983⋅log⎜tan⎜─⎟ - ─ + ──⎟⋅tan ⎜─⎟   17.8885438199983⋅log⎜tan⎜─⎟ - \n",
       "                    ⎝   ⎝2⎠   2   2 ⎠     ⎝2⎠                       ⎝   ⎝2⎠   \n",
       "───────────────────────────────────────────── + ──────────────────────────────\n",
       "                     2⎛x⎞                                        2⎛x⎞         \n",
       "             25.0⋅tan ⎜─⎟ + 25.0                         25.0⋅tan ⎜─⎟ + 25.0  \n",
       "                      ⎝2⎠                                         ⎝2⎠         \n",
       "\n",
       "1   √5⎞                       ⎛   ⎛x⎞   √5   1⎞    2⎛x⎞                       \n",
       "─ + ──⎟   17.8885438199983⋅log⎜tan⎜─⎟ - ── - ─⎟⋅tan ⎜─⎟   17.8885438199983⋅log\n",
       "2   2 ⎠                       ⎝   ⎝2⎠   2    2⎠     ⎝2⎠                       \n",
       "─────── - ───────────────────────────────────────────── - ────────────────────\n",
       "                               2⎛x⎞                                        2⎛x\n",
       "                       25.0⋅tan ⎜─⎟ + 25.0                         25.0⋅tan ⎜─\n",
       "                                ⎝2⎠                                         ⎝2\n",
       "\n",
       "⎛   ⎛x⎞   √5   1⎞               ⎛x⎞                          \n",
       "⎜tan⎜─⎟ - ── - ─⎟       10.0⋅tan⎜─⎟                          \n",
       "⎝   ⎝2⎠   2    2⎠               ⎝2⎠               30.0       \n",
       "───────────────── + ─────────────────── + ───────────────────\n",
       "⎞                           2⎛x⎞                  2⎛x⎞       \n",
       "⎟ + 25.0            25.0⋅tan ⎜─⎟ + 25.0   25.0⋅tan ⎜─⎟ + 25.0\n",
       "⎠                            ⎝2⎠                   ⎝2⎠       "
      ]
     },
     "execution_count": 10,
     "metadata": {},
     "output_type": "execute_result"
    }
   ],
   "source": [
    "Integral(((sin(x)**2 - sin(x)*cos(x)+2*cos(x)**2)/(sin(x)+2*cos(x))),(x)).doit().evalf()"
   ]
  }
 ],
 "metadata": {
  "kernelspec": {
   "display_name": "Python 3",
   "language": "python",
   "name": "python3"
  },
  "language_info": {
   "codemirror_mode": {
    "name": "ipython",
    "version": 3
   },
   "file_extension": ".py",
   "mimetype": "text/x-python",
   "name": "python",
   "nbconvert_exporter": "python",
   "pygments_lexer": "ipython3",
   "version": "3.9.13 (tags/v3.9.13:6de2ca5, May 17 2022, 16:36:42) [MSC v.1929 64 bit (AMD64)]"
  },
  "vscode": {
   "interpreter": {
    "hash": "7c874f6865d4b8c1036e012661dd7cc436876ff5513278501d79694d6dac2a1e"
   }
  }
 },
 "nbformat": 4,
 "nbformat_minor": 5
}
