{
 "cells": [
  {
   "cell_type": "code",
   "execution_count": 10,
   "id": "261e58d8",
   "metadata": {},
   "outputs": [],
   "source": [
    "from sympy import*\n",
    "from numpy import*"
   ]
  },
  {
   "cell_type": "code",
   "execution_count": 11,
   "id": "88c323a4",
   "metadata": {},
   "outputs": [],
   "source": [
    "init_printing(pretty_print=true)"
   ]
  },
  {
   "cell_type": "code",
   "execution_count": 12,
   "id": "6e73cf73",
   "metadata": {},
   "outputs": [],
   "source": [
    "x = Symbol('x')"
   ]
  },
  {
   "cell_type": "code",
   "execution_count": 17,
   "id": "2a1b3d23",
   "metadata": {},
   "outputs": [
    {
     "data": {
      "image/png": "[encoded data removed]",
      "text/latex": [
       "$\\displaystyle \\left( \\int x \\left(x^{2} - 1\\right)^{4}\\, dx, \\  \\left( x, \\  1, \\  2\\right)\\right)$"
      ],
      "text/plain": [
       "⎛⌠                          ⎞\n",
       "⎜⎮           4              ⎟\n",
       "⎜⎮   ⎛ 2    ⎞               ⎟\n",
       "⎜⎮ x⋅⎝x  - 1⎠  dx, (x, 1, 2)⎟\n",
       "⎝⌡                          ⎠"
      ]
     },
     "execution_count": 17,
     "metadata": {},
     "output_type": "execute_result"
    }
   ],
   "source": [
    "Integral(x*(x**2-1)**4),(x,1,2)"
   ]
  },
  {
   "cell_type": "code",
   "execution_count": 18,
   "id": "2e5c67de",
   "metadata": {},
   "outputs": [
    {
     "data": {
      "image/png": "[encoded data removed]",
      "text/latex": [
       "$\\displaystyle 24.3$"
      ],
      "text/plain": [
       "24.3000000000000"
      ]
     },
     "execution_count": 18,
     "metadata": {},
     "output_type": "execute_result"
    }
   ],
   "source": [
    "Integral((x*(x**2-1)**4),(x,1,2)).doit().evalf()"
   ]
  },
  {
   "cell_type": "code",
   "execution_count": null,
   "id": "bd47342f",
   "metadata": {},
   "outputs": [],
   "source": []
  }
 ],
 "metadata": {
  "kernelspec": {
   "display_name": "Python 3",
   "language": "python",
   "name": "python3"
  },
  "language_info": {
   "codemirror_mode": {
    "name": "ipython",
    "version": 3
   },
   "file_extension": ".py",
   "mimetype": "text/x-python",
   "name": "python",
   "nbconvert_exporter": "python",
   "pygments_lexer": "ipython3",
   "version": "3.9.13 (tags/v3.9.13:6de2ca5, May 17 2022, 16:36:42) [MSC v.1929 64 bit (AMD64)]"
  },
  "vscode": {
   "interpreter": {
    "hash": "7c874f6865d4b8c1036e012661dd7cc436876ff5513278501d79694d6dac2a1e"
   }
  }
 },
 "nbformat": 4,
 "nbformat_minor": 5
}
