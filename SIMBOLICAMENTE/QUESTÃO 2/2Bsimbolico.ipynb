{
 "cells": [
  {
   "cell_type": "code",
   "execution_count": 4,
   "id": "6546e5ce",
   "metadata": {},
   "outputs": [],
   "source": [
    "from sympy import*\n",
    "import math"
   ]
  },
  {
   "cell_type": "code",
   "execution_count": 5,
   "id": "6846a368",
   "metadata": {},
   "outputs": [],
   "source": [
    "init_printing(pretty_print=true)"
   ]
  },
  {
   "cell_type": "code",
   "execution_count": 6,
   "id": "1ca75f0b",
   "metadata": {},
   "outputs": [],
   "source": [
    "x = Symbol('x')"
   ]
  },
  {
   "cell_type": "code",
   "execution_count": 8,
   "id": "54cf4d61",
   "metadata": {},
   "outputs": [
    {
     "data": {
      "image/png": "[encoded data removed]",
      "text/latex": [
       "$\\displaystyle \\left( \\int \\sqrt{x + 4}\\, dx, \\  \\left( x, \\  -1, \\  4\\right)\\right)$"
      ],
      "text/plain": [
       "⎛⌠                         ⎞\n",
       "⎜⎮   _______               ⎟\n",
       "⎜⎮ ╲╱ x + 4  dx, (x, -1, 4)⎟\n",
       "⎝⌡                         ⎠"
      ]
     },
     "execution_count": 8,
     "metadata": {},
     "output_type": "execute_result"
    }
   ],
   "source": [
    "Integral(sqrt(x+4)),(x,-1,4)"
   ]
  },
  {
   "cell_type": "code",
   "execution_count": 9,
   "id": "d09a1894",
   "metadata": {},
   "outputs": [
    {
     "data": {
      "image/png": "[encoded data removed]",
      "text/latex": [
       "$\\displaystyle 11.6208430501753$"
      ],
      "text/plain": [
       "11.6208430501753"
      ]
     },
     "execution_count": 9,
     "metadata": {},
     "output_type": "execute_result"
    }
   ],
   "source": [
    "Integral((sqrt(x+4)),(x,-1,4)).doit().evalf( )"
   ]
  },
  {
   "cell_type": "code",
   "execution_count": null,
   "id": "2e6ccee8",
   "metadata": {},
   "outputs": [],
   "source": []
  }
 ],
 "metadata": {
  "kernelspec": {
   "display_name": "Python 3",
   "language": "python",
   "name": "python3"
  },
  "language_info": {
   "codemirror_mode": {
    "name": "ipython",
    "version": 3
   },
   "file_extension": ".py",
   "mimetype": "text/x-python",
   "name": "python",
   "nbconvert_exporter": "python",
   "pygments_lexer": "ipython3",
   "version": "3.9.13 (tags/v3.9.13:6de2ca5, May 17 2022, 16:36:42) [MSC v.1929 64 bit (AMD64)]"
  },
  "vscode": {
   "interpreter": {
    "hash": "7c874f6865d4b8c1036e012661dd7cc436876ff5513278501d79694d6dac2a1e"
   }
  }
 },
 "nbformat": 4,
 "nbformat_minor": 5
}
